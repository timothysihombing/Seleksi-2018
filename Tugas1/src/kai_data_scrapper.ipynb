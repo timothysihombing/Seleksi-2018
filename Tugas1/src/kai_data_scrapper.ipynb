{
 "cells": [
  {
   "cell_type": "code",
   "execution_count": 2,
   "metadata": {},
   "outputs": [],
   "source": [
    "from urllib.request import urlopen\n",
    "from bs4 import BeautifulSoup\n",
    "import json"
   ]
  },
  {
   "cell_type": "code",
   "execution_count": 3,
   "metadata": {},
   "outputs": [],
   "source": [
    "def get_url_info():\n",
    "    dept = input(\"Departure : \")\n",
    "    arr = input(\"Arrival : \")\n",
    "    date = input(\"Date : \")\n",
    "    type_train = input(\"Type Train : \")\n",
    "    if (type_train != \"oneway\"):\n",
    "        ret_date = input(\"Return date : \")\n",
    "    adult = input(\"Adult : \")\n",
    "    infant = input(\"Infant : \")\n",
    "    if (type_train != \"oneway\"):\n",
    "        url = (\"https://m.tiket.com/kereta-api/cari?d=\" + dept + \"&dt=STATION&a=\" + arr + \"&at=STATION&date=\" + date +\"&typetrain=\" + type_train + \"&ret_date=\" + ret_date + \"&adult=\" + adult + \"&infant=\" + infant)\n",
    "    else:\n",
    "        url = (\"https://m.tiket.com/kereta-api/cari?d=\" + dept + \"&dt=STATION&a=\" + arr + \"&at=STATION&date=\" + date +\"&typetrain=\" + type_train + \"&adult=\" + adult + \"&infant=\" + infant)\n",
    "    return url\n",
    "    \n",
    "def scrape_small_picture():\n",
    "    url = get_url_info()\n",
    "    result = []\n",
    "    page = urlopen(url).read()\n",
    "    soup = BeautifulSoup(page, 'html.parser')\n",
    "    data_names = ['data-origin_station', 'data-destination_station', 'data-departure_time', 'data-train_class', 'data-price', 'data-duration', 'data-train_name']\n",
    "    \n",
    "    rows = soup.find_all(\"tr\", {'class' : 'main-row '})\n",
    "    for row in rows:\n",
    "        row_datas = [row.get(data) for data in data_names]\n",
    "        result.append(row_datas)\n",
    "    return result\n",
    "    \n",
    "def make_dict(datas):\n",
    "    result = dict()\n",
    "    result['result'] = []\n",
    "    for data in datas:\n",
    "        if (data[3] == 'roundtrip'):\n",
    "            ticket = dict()\n",
    "            ticket[\"departure\"] = data[0]\n",
    "            ticket[\"arrival\"] = data[1]\n",
    "            ticket[\"date\"] = data[2]\n",
    "            ticket[\"type_train\"] = data[3]\n",
    "            ticket[\"ret_date\"] = data[4]\n",
    "            ticket[\"adult\"] = data[5]\n",
    "            ticket[\"infant\"] = data[6]\n",
    "        else:\n",
    "            ticket = dict()\n",
    "            ticket[\"departure\"] = data[0]\n",
    "            ticket[\"arrival\"] = data[1]\n",
    "            ticket[\"date\"] = data[2]\n",
    "            ticket[\"type_train\"] = data[3]\n",
    "            ticket[\"adult\"] = data[4]\n",
    "            ticket[\"infant\"] = data[5]\n",
    "        result['result'].append(ticket)\n",
    "    return result"
   ]
  },
  {
   "cell_type": "code",
   "execution_count": null,
   "metadata": {},
   "outputs": [],
   "source": [
    "# main\n",
    "dicts = make_dict(scrape_small_picture())\n",
    "print(dicts)\n",
    "\n",
    "with open('data.json', 'w') as outfile:  \n",
    "    json.dump(dicts, outfile)"
   ]
  },
  {
   "cell_type": "code",
   "execution_count": null,
   "metadata": {},
   "outputs": [],
   "source": []
  },
  {
   "cell_type": "code",
   "execution_count": null,
   "metadata": {},
   "outputs": [],
   "source": []
  }
 ],
 "metadata": {
  "kernelspec": {
   "display_name": "Python 3",
   "language": "python",
   "name": "python3"
  },
  "language_info": {
   "codemirror_mode": {
    "name": "ipython",
    "version": 3
   },
   "file_extension": ".py",
   "mimetype": "text/x-python",
   "name": "python",
   "nbconvert_exporter": "python",
   "pygments_lexer": "ipython3",
   "version": "3.6.4"
  }
 },
 "nbformat": 4,
 "nbformat_minor": 2
}
